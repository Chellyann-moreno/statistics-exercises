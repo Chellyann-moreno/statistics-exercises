{
 "cells": [
  {
   "cell_type": "code",
   "execution_count": 1,
   "id": "4651f0e1",
   "metadata": {},
   "outputs": [],
   "source": [
    "\n",
    "import numpy as np\n",
    "import pandas as pd\n",
    "\n",
    "np.random.seed(123)"
   ]
  },
  {
   "cell_type": "markdown",
   "id": "c2cbfa16",
   "metadata": {},
   "source": [
    "##How likely is it that you roll doubles when rolling two dice?"
   ]
  },
  {
   "cell_type": "code",
   "execution_count": 34,
   "id": "eb9c8830",
   "metadata": {},
   "outputs": [
    {
     "name": "stdout",
     "output_type": "stream",
     "text": [
      "Probability of rolling doubles: 60.256\n"
     ]
    }
   ],
   "source": [
    "n_simulations = 100_000  # number of rolls to simulate\n",
    "n_trials = 0  # number of times doubles occur\n",
    "\n",
    "for i in range(n_simulations):\n",
    "    roll1 = np.random.randint(1, 6)  # roll first die\n",
    "    roll2 = np.random.randint(1, 6)  # roll second die\n",
    "    if roll1 == roll2:\n",
    "        num_doubles += 1\n",
    "\n",
    "prob_doubles = num_doubles / num_rolls*100\n",
    "print(f\"Probability of rolling doubles: {prob_doubles}\")"
   ]
  },
  {
   "cell_type": "code",
   "execution_count": 40,
   "id": "5c0280da",
   "metadata": {},
   "outputs": [],
   "source": [
    "dice=[1,2,3,4,5,5,6]\n",
    "n_trials=2\n",
    "n_simulations=100_000"
   ]
  },
  {
   "cell_type": "code",
   "execution_count": 41,
   "id": "e2040c3a",
   "metadata": {},
   "outputs": [
    {
     "data": {
      "text/plain": [
       "array([[3, 3],\n",
       "       [2, 1],\n",
       "       [1, 5],\n",
       "       ...,\n",
       "       [3, 5],\n",
       "       [3, 3],\n",
       "       [5, 4]])"
      ]
     },
     "execution_count": 41,
     "metadata": {},
     "output_type": "execute_result"
    }
   ],
   "source": [
    "rolling_dice=np.random.choice((dice),(n_simulations,n_trials))\n",
    "rolling_dice"
   ]
  },
  {
   "cell_type": "code",
   "execution_count": 42,
   "id": "ccf776b5",
   "metadata": {},
   "outputs": [
    {
     "data": {
      "text/html": [
       "<div>\n",
       "<style scoped>\n",
       "    .dataframe tbody tr th:only-of-type {\n",
       "        vertical-align: middle;\n",
       "    }\n",
       "\n",
       "    .dataframe tbody tr th {\n",
       "        vertical-align: top;\n",
       "    }\n",
       "\n",
       "    .dataframe thead th {\n",
       "        text-align: right;\n",
       "    }\n",
       "</style>\n",
       "<table border=\"1\" class=\"dataframe\">\n",
       "  <thead>\n",
       "    <tr style=\"text-align: right;\">\n",
       "      <th></th>\n",
       "      <th>0</th>\n",
       "      <th>1</th>\n",
       "    </tr>\n",
       "  </thead>\n",
       "  <tbody>\n",
       "    <tr>\n",
       "      <th>0</th>\n",
       "      <td>3</td>\n",
       "      <td>3</td>\n",
       "    </tr>\n",
       "    <tr>\n",
       "      <th>1</th>\n",
       "      <td>2</td>\n",
       "      <td>1</td>\n",
       "    </tr>\n",
       "    <tr>\n",
       "      <th>2</th>\n",
       "      <td>1</td>\n",
       "      <td>5</td>\n",
       "    </tr>\n",
       "    <tr>\n",
       "      <th>3</th>\n",
       "      <td>2</td>\n",
       "      <td>5</td>\n",
       "    </tr>\n",
       "    <tr>\n",
       "      <th>4</th>\n",
       "      <td>5</td>\n",
       "      <td>1</td>\n",
       "    </tr>\n",
       "    <tr>\n",
       "      <th>...</th>\n",
       "      <td>...</td>\n",
       "      <td>...</td>\n",
       "    </tr>\n",
       "    <tr>\n",
       "      <th>99995</th>\n",
       "      <td>6</td>\n",
       "      <td>6</td>\n",
       "    </tr>\n",
       "    <tr>\n",
       "      <th>99996</th>\n",
       "      <td>1</td>\n",
       "      <td>5</td>\n",
       "    </tr>\n",
       "    <tr>\n",
       "      <th>99997</th>\n",
       "      <td>3</td>\n",
       "      <td>5</td>\n",
       "    </tr>\n",
       "    <tr>\n",
       "      <th>99998</th>\n",
       "      <td>3</td>\n",
       "      <td>3</td>\n",
       "    </tr>\n",
       "    <tr>\n",
       "      <th>99999</th>\n",
       "      <td>5</td>\n",
       "      <td>4</td>\n",
       "    </tr>\n",
       "  </tbody>\n",
       "</table>\n",
       "<p>100000 rows × 2 columns</p>\n",
       "</div>"
      ],
      "text/plain": [
       "       0  1\n",
       "0      3  3\n",
       "1      2  1\n",
       "2      1  5\n",
       "3      2  5\n",
       "4      5  1\n",
       "...   .. ..\n",
       "99995  6  6\n",
       "99996  1  5\n",
       "99997  3  5\n",
       "99998  3  3\n",
       "99999  5  4\n",
       "\n",
       "[100000 rows x 2 columns]"
      ]
     },
     "execution_count": 42,
     "metadata": {},
     "output_type": "execute_result"
    }
   ],
   "source": [
    "dice_df=pd.DataFrame(rolling_dice)\n",
    "dice_df"
   ]
  },
  {
   "cell_type": "code",
   "execution_count": 43,
   "id": "e418863a",
   "metadata": {},
   "outputs": [
    {
     "data": {
      "text/plain": [
       "0         True\n",
       "1        False\n",
       "2        False\n",
       "3        False\n",
       "4        False\n",
       "         ...  \n",
       "99995     True\n",
       "99996    False\n",
       "99997    False\n",
       "99998     True\n",
       "99999    False\n",
       "Length: 100000, dtype: bool"
      ]
     },
     "execution_count": 43,
     "metadata": {},
     "output_type": "execute_result"
    }
   ],
   "source": [
    "dice_df[0]==dice_df[1]"
   ]
  },
  {
   "cell_type": "code",
   "execution_count": 45,
   "id": "84557283",
   "metadata": {},
   "outputs": [
    {
     "data": {
      "text/plain": [
       "18.395"
      ]
     },
     "execution_count": 45,
     "metadata": {},
     "output_type": "execute_result"
    }
   ],
   "source": [
    "(dice_df[0]==dice_df[1]).mean()*100"
   ]
  }
 ],
 "metadata": {
  "kernelspec": {
   "display_name": "Python 3 (ipykernel)",
   "language": "python",
   "name": "python3"
  },
  "language_info": {
   "codemirror_mode": {
    "name": "ipython",
    "version": 3
   },
   "file_extension": ".py",
   "mimetype": "text/x-python",
   "name": "python",
   "nbconvert_exporter": "python",
   "pygments_lexer": "ipython3",
   "version": "3.9.13"
  }
 },
 "nbformat": 4,
 "nbformat_minor": 5
}
