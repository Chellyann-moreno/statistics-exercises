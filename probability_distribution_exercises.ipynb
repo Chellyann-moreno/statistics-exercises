{
 "cells": [
  {
   "cell_type": "markdown",
   "id": "4ff9f36d",
   "metadata": {},
   "source": [
    "1. A bank found that the average number of cars waiting during the noon hour at a drive-up window follows a Poisson distribution with a mean of 2 cars. Make a chart of this distribution and answer these questions concerning the probability of cars waiting at the drive-up window.\n",
    "\n",
    "a. What is the probability that no cars drive up in the noon hour?\n",
    "\n",
    "b. What is the probability that 3 or more cars come through the drive through?\n",
    "\n",
    "c. How likely is it that the drive through gets at least 1 car?"
   ]
  },
  {
   "cell_type": "code",
   "execution_count": 14,
   "id": "d6421d44",
   "metadata": {},
   "outputs": [],
   "source": [
    "import pandas as pd\n",
    "import numpy as np\n",
    "import matplotlib.pyplot as plt\n",
    "from scipy import stats"
   ]
  },
  {
   "cell_type": "code",
   "execution_count": 9,
   "id": "b1addda7",
   "metadata": {
    "scrolled": true
   },
   "outputs": [],
   "source": [
    "mean=2\n",
    "lamb=12"
   ]
  },
  {
   "cell_type": "code",
   "execution_count": 10,
   "id": "7a8575ee",
   "metadata": {},
   "outputs": [
    {
     "data": {
      "text/plain": [
       "<scipy.stats._distn_infrastructure.rv_discrete_frozen at 0x7fec4464b190>"
      ]
     },
     "execution_count": 10,
     "metadata": {},
     "output_type": "execute_result"
    }
   ],
   "source": [
    "bank_cars=stats.poisson(mean,lamb)\n",
    "bank_cars"
   ]
  },
  {
   "cell_type": "code",
   "execution_count": 11,
   "id": "51abbba3",
   "metadata": {},
   "outputs": [
    {
     "data": {
      "text/plain": [
       "0.0"
      ]
     },
     "execution_count": 11,
     "metadata": {},
     "output_type": "execute_result"
    }
   ],
   "source": [
    "bank_cars.pmf(0)"
   ]
  },
  {
   "cell_type": "code",
   "execution_count": 12,
   "id": "d4b140f5",
   "metadata": {},
   "outputs": [
    {
     "data": {
      "text/plain": [
       "1.0"
      ]
     },
     "execution_count": 12,
     "metadata": {},
     "output_type": "execute_result"
    }
   ],
   "source": [
    "bank_cars.sf(2)"
   ]
  },
  {
   "cell_type": "code",
   "execution_count": 14,
   "id": "a40035a6",
   "metadata": {},
   "outputs": [
    {
     "data": {
      "text/plain": [
       "0.0"
      ]
     },
     "execution_count": 14,
     "metadata": {},
     "output_type": "execute_result"
    }
   ],
   "source": [
    "bank_cars.pmf(1)"
   ]
  },
  {
   "cell_type": "markdown",
   "id": "7faee747",
   "metadata": {},
   "source": [
    "2. Grades of State University graduates are normally distributed with a mean of 3.0 and a standard deviation of .3. Calculate the following:\n",
    "\n",
    "a. What grade point average is required to be in the top 5% of the graduating class?\n",
    "\n",
    "b. What GPA constitutes the bottom 15% of the class?\n",
    "\n",
    "c. An eccentric alumnus left scholarship money for students in the third decile from the bottom of their class. Determine the range of the third decile. Would a student with a 2.8 grade point average qualify for this scholarship?\n",
    "\n",
    "d. If I have a GPA of 3.5, what percentile am I in?"
   ]
  },
  {
   "cell_type": "code",
   "execution_count": 17,
   "id": "a7600c8c",
   "metadata": {},
   "outputs": [
    {
     "data": {
      "text/plain": [
       "<scipy.stats._distn_infrastructure.rv_continuous_frozen at 0x7fec4464b430>"
      ]
     },
     "execution_count": 17,
     "metadata": {},
     "output_type": "execute_result"
    }
   ],
   "source": [
    "mean=3.0\n",
    "std=.3\n",
    "grads_grades=stats.norm(mean,std)\n",
    "grads_grades"
   ]
  },
  {
   "cell_type": "code",
   "execution_count": 30,
   "id": "469fa01f",
   "metadata": {},
   "outputs": [
    {
     "data": {
      "text/plain": [
       "30.7600413094074"
      ]
     },
     "execution_count": 30,
     "metadata": {},
     "output_type": "execute_result"
    }
   ],
   "source": [
    "#a\n",
    "grads_grades.isf(.4)*10"
   ]
  },
  {
   "cell_type": "code",
   "execution_count": 29,
   "id": "46a219b3",
   "metadata": {},
   "outputs": [
    {
     "data": {
      "text/plain": [
       "25.496742161867925"
      ]
     },
     "execution_count": 29,
     "metadata": {},
     "output_type": "execute_result"
    }
   ],
   "source": [
    "#b\n",
    "grads_grades.ppf(1/15)*10"
   ]
  },
  {
   "cell_type": "code",
   "execution_count": 35,
   "id": "34e473f0",
   "metadata": {},
   "outputs": [
    {
     "data": {
      "text/plain": [
       "5.326183780254698e-18"
      ]
     },
     "execution_count": 35,
     "metadata": {},
     "output_type": "execute_result"
    }
   ],
   "source": [
    "#c\n",
    "grads_grades.cdf(.43)"
   ]
  },
  {
   "cell_type": "code",
   "execution_count": 39,
   "id": "e30ed7e7",
   "metadata": {},
   "outputs": [
    {
     "data": {
      "text/plain": [
       "3.022580958629949"
      ]
     },
     "execution_count": 39,
     "metadata": {},
     "output_type": "execute_result"
    }
   ],
   "source": [
    "grads_grades.ppf(.53)"
   ]
  },
  {
   "cell_type": "code",
   "execution_count": 41,
   "id": "f914acf5",
   "metadata": {},
   "outputs": [
    {
     "data": {
      "text/plain": [
       "3.315904626424956"
      ]
     },
     "execution_count": 41,
     "metadata": {},
     "output_type": "execute_result"
    }
   ],
   "source": [
    "grads_grades.pdf(3.5)*10"
   ]
  },
  {
   "cell_type": "markdown",
   "id": "eb06ec0f",
   "metadata": {},
   "source": [
    "3. A marketing website has an average click-through rate of 2%. One day they observe 4326 visitors and 97 click-throughs. How likely is it that this many people or more click through?"
   ]
  },
  {
   "cell_type": "code",
   "execution_count": 54,
   "id": "dd42f275",
   "metadata": {},
   "outputs": [],
   "source": [
    "mean=.02\n",
    "visitors= 4326\n"
   ]
  },
  {
   "cell_type": "code",
   "execution_count": 55,
   "id": "c816cd8f",
   "metadata": {},
   "outputs": [],
   "source": [
    "website=stats.binom(visitors,mean)"
   ]
  },
  {
   "cell_type": "code",
   "execution_count": 57,
   "id": "2897e94d",
   "metadata": {},
   "outputs": [
    {
     "data": {
      "text/plain": [
       "13.975823631416445"
      ]
     },
     "execution_count": 57,
     "metadata": {},
     "output_type": "execute_result"
    }
   ],
   "source": [
    "website.sf(96)*100"
   ]
  },
  {
   "cell_type": "markdown",
   "id": "6f4cfaba",
   "metadata": {},
   "source": [
    "4. You are working on some statistics homework consisting of 100 questions where all of the answers are a probability rounded to the hundreths place. Looking to save time, you put down random probabilities as the answer to each question.\n",
    "What is the probability that at least one of your first 60 answers is correct?"
   ]
  },
  {
   "cell_type": "code",
   "execution_count": 59,
   "id": "6e8bb685",
   "metadata": {},
   "outputs": [],
   "source": [
    "first_sixty=60\n",
    "probability= .01"
   ]
  },
  {
   "cell_type": "code",
   "execution_count": 62,
   "id": "fc239d19",
   "metadata": {},
   "outputs": [],
   "source": [
    "questions=stats.binom(first_sixty,probability)"
   ]
  },
  {
   "cell_type": "code",
   "execution_count": 65,
   "id": "6c489042",
   "metadata": {},
   "outputs": [
    {
     "data": {
      "text/plain": [
       "45.28433576092385"
      ]
     },
     "execution_count": 65,
     "metadata": {},
     "output_type": "execute_result"
    }
   ],
   "source": [
    "questions.sf(0)*100"
   ]
  },
  {
   "cell_type": "markdown",
   "id": "b0868ad9",
   "metadata": {},
   "source": [
    "5. The codeup staff tends to get upset when the student break area is not cleaned up. Suppose that there's a 3% chance that any one student cleans the break area when they visit it, and, on any given day, about 90% of the 3 active cohorts of 22 students visit the break area. How likely is it that the break area gets cleaned up each day? How likely is it that it goes two days without getting cleaned up? All week?"
   ]
  },
  {
   "cell_type": "code",
   "execution_count": 83,
   "id": "126c4a0f",
   "metadata": {},
   "outputs": [],
   "source": [
    "chance=.03\n",
    "3*22\n",
    "students=round(.9*66)"
   ]
  },
  {
   "cell_type": "code",
   "execution_count": 84,
   "id": "bcc7a21a",
   "metadata": {},
   "outputs": [],
   "source": [
    "cleaning_chances=stats.binom(students,chance)"
   ]
  },
  {
   "cell_type": "code",
   "execution_count": 85,
   "id": "38e6741b",
   "metadata": {},
   "outputs": [
    {
     "data": {
      "text/plain": [
       "83.42199288437352"
      ]
     },
     "execution_count": 85,
     "metadata": {},
     "output_type": "execute_result"
    }
   ],
   "source": [
    "cleaning_chances.sf(0)*100"
   ]
  },
  {
   "cell_type": "code",
   "execution_count": 91,
   "id": "2d9e0165",
   "metadata": {},
   "outputs": [
    {
     "data": {
      "text/plain": [
       "-26.039429833919385"
      ]
     },
     "execution_count": 91,
     "metadata": {},
     "output_type": "execute_result"
    }
   ],
   "source": [
    "cleaning_chances.cdf(2)*100-100"
   ]
  },
  {
   "cell_type": "code",
   "execution_count": 90,
   "id": "df0e551a",
   "metadata": {},
   "outputs": [
    {
     "data": {
      "text/plain": [
       "-83.42199288437351"
      ]
     },
     "execution_count": 90,
     "metadata": {},
     "output_type": "execute_result"
    }
   ],
   "source": [
    "cleaning_chances.cdf(0)*100-100"
   ]
  },
  {
   "cell_type": "markdown",
   "id": "6eb35bdc",
   "metadata": {},
   "source": [
    "6. You want to get lunch at La Panaderia, but notice that the line is usually very long at lunchtime. After several weeks of careful observation, you notice that the average number of people in line when your lunch break starts is normally distributed with a mean of 15 and standard deviation of 3. If it takes 2 minutes for each person to order, and 10 minutes from ordering to getting your food, what is the likelihood that you have at least 15 minutes left to eat your food before you have to go back to class? Assume you have one hour for lunch, and ignore travel time to and from La Panaderia."
   ]
  },
  {
   "cell_type": "code",
   "execution_count": 105,
   "id": "34867de4",
   "metadata": {},
   "outputs": [],
   "source": [
    "mean=15*2\n",
    "std=3*2\n",
    "per_person_order=2\n",
    "cook_serve_time=10\n",
    "time_left_eat=15\n",
    "lunch_time=60"
   ]
  },
  {
   "cell_type": "code",
   "execution_count": 98,
   "id": "6aa303f7",
   "metadata": {},
   "outputs": [
    {
     "data": {
      "text/plain": [
       "33"
      ]
     },
     "execution_count": 98,
     "metadata": {},
     "output_type": "execute_result"
    }
   ],
   "source": [
    "wait = (lunch_time - time_left_eat) - per_person_order - cook_serve_time\n",
    "wait"
   ]
  },
  {
   "cell_type": "code",
   "execution_count": 108,
   "id": "2963fee3",
   "metadata": {},
   "outputs": [],
   "source": [
    "line=stats.norm(mean,std)"
   ]
  },
  {
   "cell_type": "code",
   "execution_count": 110,
   "id": "37fbfc69",
   "metadata": {},
   "outputs": [
    {
     "data": {
      "text/plain": [
       "69.14624612740131"
      ]
     },
     "execution_count": 110,
     "metadata": {},
     "output_type": "execute_result"
    }
   ],
   "source": [
    "line.cdf(wait)*100"
   ]
  },
  {
   "cell_type": "markdown",
   "id": "3424675a",
   "metadata": {},
   "source": [
    "7. Connect to the employees database and find the average salary of current employees, along with the standard deviation. For the following questions, calculate the answer based on modeling the employees salaries with a normal distribution defined by the calculated mean and standard deviation then compare this answer to the actual values present in the salaries dataset.\n",
    "\n",
    "a. What percent of employees earn less than 60,000?\n",
    "\n",
    "b. What percent of employees earn more than 95,000?\n",
    "\n",
    "c. What percent of employees earn between 65,000 and 80,000?\n",
    "\n",
    "d. What do the top 5% of employees make?"
   ]
  },
  {
   "cell_type": "code",
   "execution_count": 7,
   "id": "1b7f7021",
   "metadata": {},
   "outputs": [],
   "source": [
    "import env"
   ]
  },
  {
   "cell_type": "code",
   "execution_count": 15,
   "id": "a2227be7",
   "metadata": {},
   "outputs": [],
   "source": [
    "url=get_db_url('employees')"
   ]
  },
  {
   "cell_type": "code",
   "execution_count": 18,
   "id": "f80d9a0e",
   "metadata": {
    "scrolled": true
   },
   "outputs": [
    {
     "data": {
      "text/html": [
       "<div>\n",
       "<style scoped>\n",
       "    .dataframe tbody tr th:only-of-type {\n",
       "        vertical-align: middle;\n",
       "    }\n",
       "\n",
       "    .dataframe tbody tr th {\n",
       "        vertical-align: top;\n",
       "    }\n",
       "\n",
       "    .dataframe thead th {\n",
       "        text-align: right;\n",
       "    }\n",
       "</style>\n",
       "<table border=\"1\" class=\"dataframe\">\n",
       "  <thead>\n",
       "    <tr style=\"text-align: right;\">\n",
       "      <th></th>\n",
       "      <th>emp_no</th>\n",
       "      <th>salary</th>\n",
       "      <th>from_date</th>\n",
       "      <th>to_date</th>\n",
       "    </tr>\n",
       "  </thead>\n",
       "  <tbody>\n",
       "    <tr>\n",
       "      <th>0</th>\n",
       "      <td>10001</td>\n",
       "      <td>88958</td>\n",
       "      <td>2002-06-22</td>\n",
       "      <td>9999-01-01</td>\n",
       "    </tr>\n",
       "    <tr>\n",
       "      <th>1</th>\n",
       "      <td>10002</td>\n",
       "      <td>72527</td>\n",
       "      <td>2001-08-02</td>\n",
       "      <td>9999-01-01</td>\n",
       "    </tr>\n",
       "    <tr>\n",
       "      <th>2</th>\n",
       "      <td>10003</td>\n",
       "      <td>43311</td>\n",
       "      <td>2001-12-01</td>\n",
       "      <td>9999-01-01</td>\n",
       "    </tr>\n",
       "    <tr>\n",
       "      <th>3</th>\n",
       "      <td>10004</td>\n",
       "      <td>74057</td>\n",
       "      <td>2001-11-27</td>\n",
       "      <td>9999-01-01</td>\n",
       "    </tr>\n",
       "    <tr>\n",
       "      <th>4</th>\n",
       "      <td>10005</td>\n",
       "      <td>94692</td>\n",
       "      <td>2001-09-09</td>\n",
       "      <td>9999-01-01</td>\n",
       "    </tr>\n",
       "    <tr>\n",
       "      <th>...</th>\n",
       "      <td>...</td>\n",
       "      <td>...</td>\n",
       "      <td>...</td>\n",
       "      <td>...</td>\n",
       "    </tr>\n",
       "    <tr>\n",
       "      <th>240119</th>\n",
       "      <td>499995</td>\n",
       "      <td>52868</td>\n",
       "      <td>2002-06-01</td>\n",
       "      <td>9999-01-01</td>\n",
       "    </tr>\n",
       "    <tr>\n",
       "      <th>240120</th>\n",
       "      <td>499996</td>\n",
       "      <td>69501</td>\n",
       "      <td>2002-05-12</td>\n",
       "      <td>9999-01-01</td>\n",
       "    </tr>\n",
       "    <tr>\n",
       "      <th>240121</th>\n",
       "      <td>499997</td>\n",
       "      <td>83441</td>\n",
       "      <td>2001-08-26</td>\n",
       "      <td>9999-01-01</td>\n",
       "    </tr>\n",
       "    <tr>\n",
       "      <th>240122</th>\n",
       "      <td>499998</td>\n",
       "      <td>55003</td>\n",
       "      <td>2001-12-25</td>\n",
       "      <td>9999-01-01</td>\n",
       "    </tr>\n",
       "    <tr>\n",
       "      <th>240123</th>\n",
       "      <td>499999</td>\n",
       "      <td>77303</td>\n",
       "      <td>2001-11-29</td>\n",
       "      <td>9999-01-01</td>\n",
       "    </tr>\n",
       "  </tbody>\n",
       "</table>\n",
       "<p>240124 rows × 4 columns</p>\n",
       "</div>"
      ],
      "text/plain": [
       "        emp_no  salary   from_date     to_date\n",
       "0        10001   88958  2002-06-22  9999-01-01\n",
       "1        10002   72527  2001-08-02  9999-01-01\n",
       "2        10003   43311  2001-12-01  9999-01-01\n",
       "3        10004   74057  2001-11-27  9999-01-01\n",
       "4        10005   94692  2001-09-09  9999-01-01\n",
       "...        ...     ...         ...         ...\n",
       "240119  499995   52868  2002-06-01  9999-01-01\n",
       "240120  499996   69501  2002-05-12  9999-01-01\n",
       "240121  499997   83441  2001-08-26  9999-01-01\n",
       "240122  499998   55003  2001-12-25  9999-01-01\n",
       "240123  499999   77303  2001-11-29  9999-01-01\n",
       "\n",
       "[240124 rows x 4 columns]"
      ]
     },
     "execution_count": 18,
     "metadata": {},
     "output_type": "execute_result"
    }
   ],
   "source": [
    "df=pd.read_sql('''SELECT * FROM employees.salaries\n",
    "where to_date > curdate()\n",
    "''',url)\n",
    "df"
   ]
  },
  {
   "cell_type": "code",
   "execution_count": 20,
   "id": "01284cee",
   "metadata": {},
   "outputs": [
    {
     "name": "stdout",
     "output_type": "stream",
     "text": [
      "<class 'pandas.core.frame.DataFrame'>\n",
      "RangeIndex: 240124 entries, 0 to 240123\n",
      "Data columns (total 4 columns):\n",
      " #   Column     Non-Null Count   Dtype \n",
      "---  ------     --------------   ----- \n",
      " 0   emp_no     240124 non-null  int64 \n",
      " 1   salary     240124 non-null  int64 \n",
      " 2   from_date  240124 non-null  object\n",
      " 3   to_date    240124 non-null  object\n",
      "dtypes: int64(2), object(2)\n",
      "memory usage: 7.3+ MB\n"
     ]
    }
   ],
   "source": [
    "df.info()"
   ]
  },
  {
   "cell_type": "code",
   "execution_count": 25,
   "id": "bb46a9f7",
   "metadata": {},
   "outputs": [
    {
     "data": {
      "text/plain": [
       "(72012.23585730705, 17309.99538025198)"
      ]
     },
     "execution_count": 25,
     "metadata": {},
     "output_type": "execute_result"
    }
   ],
   "source": [
    "mean=df.salary.mean()\n",
    "std=df.salary.std()\n",
    "mean, std"
   ]
  },
  {
   "cell_type": "code",
   "execution_count": 28,
   "id": "25d3fbfa",
   "metadata": {},
   "outputs": [
    {
     "data": {
      "text/plain": [
       "24.38574248021442"
      ]
     },
     "execution_count": 28,
     "metadata": {},
     "output_type": "execute_result"
    }
   ],
   "source": [
    "#a. What percent of employees earn less than 60,000?\n",
    "\n",
    "salary_stats=stats.norm(mean,std)\n",
    "salary_stats.cdf(60_000)*100"
   ]
  },
  {
   "cell_type": "code",
   "execution_count": 30,
   "id": "66aebc88",
   "metadata": {},
   "outputs": [
    {
     "data": {
      "text/plain": [
       "10.20004446915252"
      ]
     },
     "execution_count": 30,
     "metadata": {},
     "output_type": "execute_result"
    }
   ],
   "source": [
    "#b. What percent of employees earn more than 95,000?\n",
    "salary_stats.sf(94_000)*100"
   ]
  },
  {
   "cell_type": "code",
   "execution_count": 34,
   "id": "889d04cd",
   "metadata": {},
   "outputs": [
    {
     "data": {
      "text/plain": [
       "array([34.2702922, 90.7911808])"
      ]
     },
     "execution_count": 34,
     "metadata": {},
     "output_type": "execute_result"
    }
   ],
   "source": [
    "#c. What percent of employees earn between 65,000 and 80,000?\n",
    "salary_stats.cdf([65_000,95_000])*100"
   ]
  },
  {
   "cell_type": "code",
   "execution_count": 35,
   "id": "13f8242f",
   "metadata": {},
   "outputs": [
    {
     "data": {
      "text/plain": [
       "100484.64454102777"
      ]
     },
     "execution_count": 35,
     "metadata": {},
     "output_type": "execute_result"
    }
   ],
   "source": [
    "#d. What do the top 5% of employees make?\n",
    "salary_stats.isf(0.05)"
   ]
  }
 ],
 "metadata": {
  "kernelspec": {
   "display_name": "Python 3 (ipykernel)",
   "language": "python",
   "name": "python3"
  },
  "language_info": {
   "codemirror_mode": {
    "name": "ipython",
    "version": 3
   },
   "file_extension": ".py",
   "mimetype": "text/x-python",
   "name": "python",
   "nbconvert_exporter": "python",
   "pygments_lexer": "ipython3",
   "version": "3.9.13"
  }
 },
 "nbformat": 4,
 "nbformat_minor": 5
}
